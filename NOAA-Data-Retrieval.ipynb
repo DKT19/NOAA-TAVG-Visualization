{
 "cells": [
  {
   "cell_type": "code",
   "execution_count": null,
   "metadata": {},
   "outputs": [],
   "source": [
    "# Import libraries\n",
    "import requests\n",
    "import pandas as pd\n",
    "import numpy as np\n",
    "import time\n",
    "import json\n",
    "import sys\n",
    "import os"
   ]
  },
  {
   "cell_type": "code",
   "execution_count": null,
   "metadata": {},
   "outputs": [],
   "source": [
    "# Access token\n",
    "Token = '...'  # Unique token required\n",
    "header = {'token': Token}"
   ]
  },
  {
   "cell_type": "code",
   "execution_count": null,
   "metadata": {},
   "outputs": [],
   "source": [
    "# Set up parameters for request url (for /data)\n",
    "stationid = input('Enter valid station ID: ')  # Ex. West Palm Beach Airport Station (GHCND:USW00012844)\n",
    "datasetid = input('Enter valid Dataset ID: ')  # Ex, GHCND, GSOM, GSOY...\n",
    "datatypeid = input('Enter valid Datatype ID: ')  #Ex. TAVG, PRCP, AWND...\n",
    "limit = input('Enter number of results: ')  # Maximum of 1000 results\n",
    "startdate = input('Enter desired start date: ')  # ISO format YYYY-MM-DD\n",
    "enddate = input('Enter desired end date: ')"
   ]
  },
  {
   "cell_type": "code",
   "execution_count": null,
   "metadata": {},
   "outputs": [],
   "source": [
    "# Make station name recognizable\n",
    "if stationid == 'GHCND:USW00012844':\n",
    "    cur_loc = 'WPBA'  # West Palm Beach Airport (FL)\n",
    "elif stationid == 'GHCND:USW00014732':\n",
    "    cur_loc = 'LGA'  # La Guardia Airport (NY)\n",
    "elif stationid == 'GHCND:USW00023174':\n",
    "    cur_loc = 'LAX'  # Los Angeles International Airport (CA)"
   ]
  },
  {
   "cell_type": "code",
   "execution_count": null,
   "metadata": {},
   "outputs": [],
   "source": [
    "# Generate url\n",
    "url = 'https://www.ncdc.noaa.gov/cdo-web/api/v2/data?datasetid='+ datasetid +'&datatypeid='+ datatypeid +'&stationid='+ stationid +'&startdate='+ startdate +'&enddate='+ enddate +'&limit='+ limit"
   ]
  },
  {
   "cell_type": "code",
   "execution_count": null,
   "metadata": {},
   "outputs": [],
   "source": [
    "try:\n",
    "    # Request data\n",
    "    response = requests.get(url, headers = header)\n",
    "    \n",
    "    # Determine if response is appropriate\n",
    "    response.raise_for_status()\n",
    "except requests.exceptions.HTTPError as error:\n",
    "    print('Invalid response: {}'.format(error.response.status_code))\n",
    "    sys.exit(1)"
   ]
  },
  {
   "cell_type": "code",
   "execution_count": null,
   "metadata": {},
   "outputs": [],
   "source": [
    "# Retrieve JSON content\n",
    "data = json.loads(response.text)"
   ]
  },
  {
   "cell_type": "code",
   "execution_count": null,
   "metadata": {},
   "outputs": [],
   "source": [
    "values = list()\n",
    "dates = list()\n",
    "for i in data['results']:\n",
    "    if i['datatype'] == datatypeid:\n",
    "        if datatypeid == 'TAVG' or 'TMAX' or 'TMIN':\n",
    "            # Original temp in tenths of degrees celsius\n",
    "            value = round(((i['value']/10) * (9/5)) + 32, 2)\n",
    "        else:  # Change for other datatypes\n",
    "            value = i['value']\n",
    "        # Reformat given date\n",
    "        date = time.strftime('%d %b %y', time.strptime(i['date'], '%Y-%m-%dT%H:%M:%S'))\n",
    "        # Populate lists for dates and values\n",
    "        dates.append(date)\n",
    "        values.append(value)"
   ]
  },
  {
   "cell_type": "code",
   "execution_count": null,
   "metadata": {},
   "outputs": [],
   "source": [
    "# Creating Pandas dataframe\n",
    "df_data = {datatypeid:values,\n",
    "           'Date':dates}\n",
    "df = pd.DataFrame(df_data)\n",
    "\n",
    "# Add location column to dataframe\n",
    "location = list()\n",
    "for counter in range(0, len(df)):\n",
    "    location.append(cur_loc)\n",
    "df['Location'] = location\n",
    "    \n",
    "display(df[0:5])"
   ]
  },
  {
   "cell_type": "code",
   "execution_count": null,
   "metadata": {},
   "outputs": [],
   "source": [
    "# Save data to csv\n",
    "path = r'./data/'+ datatypeid +'_Summer_'+ cur_loc + '_' + time.strftime('%y', time.strptime(startdate, '%Y-%m-%d')) +'.csv'\n",
    "df.to_csv(path, index = False)"
   ]
  }
 ],
 "metadata": {
  "kernelspec": {
   "display_name": "Python 3.6 (tensorflow)",
   "language": "python",
   "name": "tensorflow"
  },
  "language_info": {
   "codemirror_mode": {
    "name": "ipython",
    "version": 3
   },
   "file_extension": ".py",
   "mimetype": "text/x-python",
   "name": "python",
   "nbconvert_exporter": "python",
   "pygments_lexer": "ipython3",
   "version": "3.6.8"
  }
 },
 "nbformat": 4,
 "nbformat_minor": 2
}
